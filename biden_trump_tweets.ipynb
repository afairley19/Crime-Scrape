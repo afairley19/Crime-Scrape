{
  "nbformat": 4,
  "nbformat_minor": 0,
  "metadata": {
    "colab": {
      "name": "biden_trump_tweets.ipynb",
      "provenance": [],
      "authorship_tag": "ABX9TyPSRDb0gbjCgv68SbDGn2m7",
      "include_colab_link": true
    },
    "kernelspec": {
      "name": "python3",
      "display_name": "Python 3"
    },
    "language_info": {
      "name": "python"
    }
  },
  "cells": [
    {
      "cell_type": "markdown",
      "metadata": {
        "id": "view-in-github",
        "colab_type": "text"
      },
      "source": [
        "<a href=\"https://colab.research.google.com/github/afairley19/nlp_colab/blob/master/biden_trump_tweets.ipynb\" target=\"_parent\"><img src=\"https://colab.research.google.com/assets/colab-badge.svg\" alt=\"Open In Colab\"/></a>"
      ]
    },
    {
      "cell_type": "code",
      "metadata": {
        "colab": {
          "base_uri": "https://localhost:8080/"
        },
        "id": "qDEUkNCJTyNN",
        "outputId": "3f642eb2-37b5-490b-93c0-f76399814c84"
      },
      "source": [
        "import os\n",
        "# Install java\n",
        "! apt-get update -qq\n",
        "! apt-get install -y openjdk-8-jdk-headless -qq > /dev/null\n",
        "os.environ[\"JAVA_HOME\"] = \"/usr/lib/jvm/java-8-openjdk-amd64\" \n",
        "os.environ[\"PATH\"] = os.environ[\"JAVA_HOME\"] + \"/bin:\" + os.environ[\"PATH\"] \n",
        "! java -version\n",
        "# Install pyspark\n",
        "! pip install --ignore-installed pyspark==2.4.4\n",
        "# Install Spark NLP\n",
        "! pip install --ignore-installed spark-nlp==2.6.3"
      ],
      "execution_count": 1,
      "outputs": [
        {
          "output_type": "stream",
          "text": [
            "openjdk version \"1.8.0_282\"\n",
            "OpenJDK Runtime Environment (build 1.8.0_282-8u282-b08-0ubuntu1~18.04-b08)\n",
            "OpenJDK 64-Bit Server VM (build 25.282-b08, mixed mode)\n",
            "Collecting pyspark==2.4.4\n",
            "\u001b[?25l  Downloading https://files.pythonhosted.org/packages/87/21/f05c186f4ddb01d15d0ddc36ef4b7e3cedbeb6412274a41f26b55a650ee5/pyspark-2.4.4.tar.gz (215.7MB)\n",
            "\u001b[K     |████████████████████████████████| 215.7MB 61kB/s \n",
            "\u001b[?25hCollecting py4j==0.10.7\n",
            "\u001b[?25l  Downloading https://files.pythonhosted.org/packages/e3/53/c737818eb9a7dc32a7cd4f1396e787bd94200c3997c72c1dbe028587bd76/py4j-0.10.7-py2.py3-none-any.whl (197kB)\n",
            "\u001b[K     |████████████████████████████████| 204kB 42.0MB/s \n",
            "\u001b[?25hBuilding wheels for collected packages: pyspark\n",
            "  Building wheel for pyspark (setup.py) ... \u001b[?25l\u001b[?25hdone\n",
            "  Created wheel for pyspark: filename=pyspark-2.4.4-py2.py3-none-any.whl size=216130389 sha256=5a557e7f9962ad3b0d4e0f05b110f40a800396d75f954e068f7e6673c13abf89\n",
            "  Stored in directory: /root/.cache/pip/wheels/ab/09/4d/0d184230058e654eb1b04467dbc1292f00eaa186544604b471\n",
            "Successfully built pyspark\n",
            "Installing collected packages: py4j, pyspark\n",
            "Successfully installed py4j-0.10.7 pyspark-2.4.4\n",
            "Collecting spark-nlp==2.6.3\n",
            "\u001b[?25l  Downloading https://files.pythonhosted.org/packages/84/84/3f15673db521fbc4e8e0ec3677a019ba1458b2cb70f0f7738c221511ef32/spark_nlp-2.6.3-py2.py3-none-any.whl (129kB)\n",
            "\u001b[K     |████████████████████████████████| 133kB 9.3MB/s \n",
            "\u001b[?25hInstalling collected packages: spark-nlp\n",
            "Successfully installed spark-nlp-2.6.3\n"
          ],
          "name": "stdout"
        }
      ]
    },
    {
      "cell_type": "code",
      "metadata": {
        "colab": {
          "base_uri": "https://localhost:8080/"
        },
        "id": "5lwc75v6uHU1",
        "outputId": "0a107fca-1420-4a3b-97b4-5234f19178ba"
      },
      "source": [
        "! sudo update-alternatives --config java"
      ],
      "execution_count": 2,
      "outputs": [
        {
          "output_type": "stream",
          "text": [
            "There are 2 choices for the alternative java (providing /usr/bin/java).\n",
            "\n",
            "  Selection    Path                                            Priority   Status\n",
            "------------------------------------------------------------\n",
            "* 0            /usr/lib/jvm/java-11-openjdk-amd64/bin/java      1111      auto mode\n",
            "  1            /usr/lib/jvm/java-11-openjdk-amd64/bin/java      1111      manual mode\n",
            "  2            /usr/lib/jvm/java-8-openjdk-amd64/jre/bin/java   1081      manual mode\n",
            "\n",
            "Press <enter> to keep the current choice[*], or type selection number: 2\n",
            "update-alternatives: using /usr/lib/jvm/java-8-openjdk-amd64/jre/bin/java to provide /usr/bin/java (java) in manual mode\n"
          ],
          "name": "stdout"
        }
      ]
    },
    {
      "cell_type": "code",
      "metadata": {
        "colab": {
          "base_uri": "https://localhost:8080/"
        },
        "id": "QpBUrLUfuLBx",
        "outputId": "e757caf0-d178-4e7e-f7dd-b9ee10a9b534"
      },
      "source": [
        "from pyspark.sql import SparkSession \n",
        "from pyspark.ml import Pipeline\n",
        "from sparknlp.base import *\n",
        "from sparknlp.annotator import *\n",
        "from sparknlp.pretrained import PretrainedPipeline \n",
        "import sparknlp\n",
        "spark = sparknlp.start()\n",
        "\n",
        "print(\"Spark NLP version: \", sparknlp.version()) \n",
        "print(\"Apache Spark version: \", spark.version)"
      ],
      "execution_count": 3,
      "outputs": [
        {
          "output_type": "stream",
          "text": [
            "Spark NLP version:  2.6.3\n",
            "Apache Spark version:  2.4.4\n"
          ],
          "name": "stdout"
        }
      ]
    },
    {
      "cell_type": "code",
      "metadata": {
        "id": "CJdzGFzvvbN5"
      },
      "source": [
        "import pickle\n",
        "import cloudpickle as cp\n",
        "lst_donald_trump_tweets=[]\n",
        "lst_joe_biden_tweets=[]\n",
        "\n",
        "from urllib.request import urlopen\n",
        "lst_donald_trump_tweets = cp.load(urlopen(\"https://raw.githubusercontent.com/gomachinelearning/Blogs/master/DonaldTrumpTweets.pickle\"))\n",
        "lst_joe_biden_tweets = cp.load(urlopen(\"https://raw.githubusercontent.com/gomachinelearning/Blogs/master/JoeBidenTweets.pickle\"))"
      ],
      "execution_count": 4,
      "outputs": []
    },
    {
      "cell_type": "code",
      "metadata": {
        "id": "9CZGAftovj0u"
      },
      "source": [
        "import pandas as pd\n",
        "dt_df = spark.createDataFrame(pd.DataFrame({\"trump_tweets\":lst_donald_trump_tweets}))\n",
        "jb_df = spark.createDataFrame(pd.DataFrame({\"biden_tweets\":lst_joe_biden_tweets}))"
      ],
      "execution_count": 9,
      "outputs": []
    },
    {
      "cell_type": "code",
      "metadata": {
        "colab": {
          "base_uri": "https://localhost:8080/"
        },
        "id": "lKfyHpDFwHRa",
        "outputId": "3689bdfa-06fb-443d-aa96-fd2c60040e36"
      },
      "source": [
        "dt_df.printSchema()\n",
        "\n",
        "dt_df.count()"
      ],
      "execution_count": 12,
      "outputs": [
        {
          "output_type": "stream",
          "text": [
            "root\n",
            " |-- trump_tweets: string (nullable = true)\n",
            "\n"
          ],
          "name": "stdout"
        },
        {
          "output_type": "execute_result",
          "data": {
            "text/plain": [
              "3237"
            ]
          },
          "metadata": {
            "tags": []
          },
          "execution_count": 12
        }
      ]
    },
    {
      "cell_type": "code",
      "metadata": {
        "colab": {
          "base_uri": "https://localhost:8080/"
        },
        "id": "EszAA4Abwupi",
        "outputId": "84bc18dd-b98e-4004-a75a-f2c2ee5db6da"
      },
      "source": [
        "jb_df.printSchema()\n",
        "\n",
        "jb_df.count()"
      ],
      "execution_count": 13,
      "outputs": [
        {
          "output_type": "stream",
          "text": [
            "root\n",
            " |-- biden_tweets: string (nullable = true)\n",
            "\n"
          ],
          "name": "stdout"
        },
        {
          "output_type": "execute_result",
          "data": {
            "text/plain": [
              "3230"
            ]
          },
          "metadata": {
            "tags": []
          },
          "execution_count": 13
        }
      ]
    },
    {
      "cell_type": "code",
      "metadata": {
        "colab": {
          "base_uri": "https://localhost:8080/"
        },
        "id": "TgL9tDzxw4nG",
        "outputId": "9c695012-731e-44ca-c78f-2160e3ee490d"
      },
      "source": [
        "documentAssembler = DocumentAssembler()\\\n",
        ".setInputCol(\"trump_tweets\")\\\n",
        ".setOutputCol(\"trump_document\")\n",
        "\n",
        "use = UniversalSentenceEncoder.pretrained(lang=\"en\")\\\n",
        ".setInputCols([\"trump_document\"])\\\n",
        ".setOutputCol(\"dt_sentence_embeddings\")\n",
        "\n",
        "model_name = 'classifierdl_use_fakenews'\n",
        "document_classifier = ClassifierDLModel.pretrained(model_name)\\\n",
        ".setInputCols(['trump_document', 'dt_sentence_embeddings']).setOutputCol(\"dt_prediction\")\n",
        "\n",
        "nlp_Pipeline = Pipeline( stages=[documentAssembler,\n",
        "            use,\n",
        "            document_classifier])"
      ],
      "execution_count": 14,
      "outputs": [
        {
          "output_type": "stream",
          "text": [
            "tfhub_use download started this may take some time.\n",
            "Approximate size to download 923.7 MB\n",
            "[OK!]\n",
            "classifierdl_use_fakenews download started this may take some time.\n",
            "Approximate size to download 21.4 MB\n",
            "[OK!]\n"
          ],
          "name": "stdout"
        }
      ]
    },
    {
      "cell_type": "code",
      "metadata": {
        "colab": {
          "base_uri": "https://localhost:8080/"
        },
        "id": "3rVsULuzx_Wv",
        "outputId": "cde9ef7a-6367-402c-9fb6-8af653531785"
      },
      "source": [
        "jb_documentAssembler = DocumentAssembler()\\\n",
        ".setInputCol(\"biden_tweets\")\\\n",
        ".setOutputCol(\"biden_document\")\n",
        "\n",
        "jb_use = UniversalSentenceEncoder.pretrained(lang=\"en\")\\\n",
        ".setInputCols([\"biden_document\"])\\\n",
        ".setOutputCol(\"jb_sentence_embeddings\")\n",
        "\n",
        "jb_model_name = 'classifierdl_use_fakenews'\n",
        "jb_document_classifier = ClassifierDLModel.pretrained(model_name)\\\n",
        ".setInputCols(['biden_document', 'jb_sentence_embeddings']).setOutputCol(\"jb_prediction\")\n",
        "\n",
        "jb_nlp_Pipeline = Pipeline( stages=[jb_documentAssembler,\n",
        "            jb_use,\n",
        "            jb_document_classifier])"
      ],
      "execution_count": 17,
      "outputs": [
        {
          "output_type": "stream",
          "text": [
            "tfhub_use download started this may take some time.\n",
            "Approximate size to download 923.7 MB\n",
            "[OK!]\n",
            "classifierdl_use_fakenews download started this may take some time.\n",
            "Approximate size to download 21.4 MB\n",
            "[OK!]\n"
          ],
          "name": "stdout"
        }
      ]
    },
    {
      "cell_type": "code",
      "metadata": {
        "colab": {
          "base_uri": "https://localhost:8080/"
        },
        "id": "wAiC9aNLxQ3v",
        "outputId": "71c8bd60-13a5-4685-80b1-3021e121e76a"
      },
      "source": [
        "# Training (Pipeline)\n",
        "dt_empty_df = spark.createDataFrame([['']]).toDF(\"trump_tweets\") \n",
        "pipelineModel = nlp_Pipeline.fit(dt_empty_df)\n",
        "dt_result_df = pipelineModel.transform(dt_df)\n",
        "\n",
        "# Show Schema\n",
        "dt_result_df.printSchema()"
      ],
      "execution_count": 15,
      "outputs": [
        {
          "output_type": "stream",
          "text": [
            "root\n",
            " |-- trump_tweets: string (nullable = true)\n",
            " |-- trump_document: array (nullable = true)\n",
            " |    |-- element: struct (containsNull = true)\n",
            " |    |    |-- annotatorType: string (nullable = true)\n",
            " |    |    |-- begin: integer (nullable = false)\n",
            " |    |    |-- end: integer (nullable = false)\n",
            " |    |    |-- result: string (nullable = true)\n",
            " |    |    |-- metadata: map (nullable = true)\n",
            " |    |    |    |-- key: string\n",
            " |    |    |    |-- value: string (valueContainsNull = true)\n",
            " |    |    |-- embeddings: array (nullable = true)\n",
            " |    |    |    |-- element: float (containsNull = false)\n",
            " |-- dt_sentence_embeddings: array (nullable = true)\n",
            " |    |-- element: struct (containsNull = true)\n",
            " |    |    |-- annotatorType: string (nullable = true)\n",
            " |    |    |-- begin: integer (nullable = false)\n",
            " |    |    |-- end: integer (nullable = false)\n",
            " |    |    |-- result: string (nullable = true)\n",
            " |    |    |-- metadata: map (nullable = true)\n",
            " |    |    |    |-- key: string\n",
            " |    |    |    |-- value: string (valueContainsNull = true)\n",
            " |    |    |-- embeddings: array (nullable = true)\n",
            " |    |    |    |-- element: float (containsNull = false)\n",
            " |-- dt_prediction: array (nullable = true)\n",
            " |    |-- element: struct (containsNull = true)\n",
            " |    |    |-- annotatorType: string (nullable = true)\n",
            " |    |    |-- begin: integer (nullable = false)\n",
            " |    |    |-- end: integer (nullable = false)\n",
            " |    |    |-- result: string (nullable = true)\n",
            " |    |    |-- metadata: map (nullable = true)\n",
            " |    |    |    |-- key: string\n",
            " |    |    |    |-- value: string (valueContainsNull = true)\n",
            " |    |    |-- embeddings: array (nullable = true)\n",
            " |    |    |    |-- element: float (containsNull = false)\n",
            "\n"
          ],
          "name": "stdout"
        }
      ]
    },
    {
      "cell_type": "code",
      "metadata": {
        "colab": {
          "base_uri": "https://localhost:8080/"
        },
        "id": "2MU2_Icgybv7",
        "outputId": "aec2525c-f294-45f5-dbea-d13459ad39da"
      },
      "source": [
        "# Training (Pipeline)\n",
        "jb_empty_df = spark.createDataFrame([['']]).toDF(\"biden_tweets\") \n",
        "jb_pipelineModel = jb_nlp_Pipeline.fit(jb_empty_df)\n",
        "jb_result_df = jb_pipelineModel.transform(jb_df)\n",
        "\n",
        "# Show Schema\n",
        "jb_result_df.printSchema()"
      ],
      "execution_count": 18,
      "outputs": [
        {
          "output_type": "stream",
          "text": [
            "root\n",
            " |-- biden_tweets: string (nullable = true)\n",
            " |-- biden_document: array (nullable = true)\n",
            " |    |-- element: struct (containsNull = true)\n",
            " |    |    |-- annotatorType: string (nullable = true)\n",
            " |    |    |-- begin: integer (nullable = false)\n",
            " |    |    |-- end: integer (nullable = false)\n",
            " |    |    |-- result: string (nullable = true)\n",
            " |    |    |-- metadata: map (nullable = true)\n",
            " |    |    |    |-- key: string\n",
            " |    |    |    |-- value: string (valueContainsNull = true)\n",
            " |    |    |-- embeddings: array (nullable = true)\n",
            " |    |    |    |-- element: float (containsNull = false)\n",
            " |-- jb_sentence_embeddings: array (nullable = true)\n",
            " |    |-- element: struct (containsNull = true)\n",
            " |    |    |-- annotatorType: string (nullable = true)\n",
            " |    |    |-- begin: integer (nullable = false)\n",
            " |    |    |-- end: integer (nullable = false)\n",
            " |    |    |-- result: string (nullable = true)\n",
            " |    |    |-- metadata: map (nullable = true)\n",
            " |    |    |    |-- key: string\n",
            " |    |    |    |-- value: string (valueContainsNull = true)\n",
            " |    |    |-- embeddings: array (nullable = true)\n",
            " |    |    |    |-- element: float (containsNull = false)\n",
            " |-- jb_prediction: array (nullable = true)\n",
            " |    |-- element: struct (containsNull = true)\n",
            " |    |    |-- annotatorType: string (nullable = true)\n",
            " |    |    |-- begin: integer (nullable = false)\n",
            " |    |    |-- end: integer (nullable = false)\n",
            " |    |    |-- result: string (nullable = true)\n",
            " |    |    |-- metadata: map (nullable = true)\n",
            " |    |    |    |-- key: string\n",
            " |    |    |    |-- value: string (valueContainsNull = true)\n",
            " |    |    |-- embeddings: array (nullable = true)\n",
            " |    |    |    |-- element: float (containsNull = false)\n",
            "\n"
          ],
          "name": "stdout"
        }
      ]
    },
    {
      "cell_type": "code",
      "metadata": {
        "colab": {
          "base_uri": "https://localhost:8080/"
        },
        "id": "VORpf6gPxn8K",
        "outputId": "586ba178-edff-452b-a806-2b5bf9bc5438"
      },
      "source": [
        "import pyspark.sql.functions as F \n",
        "dt_result_df.select(F.explode(F.arrays_zip('dt_prediction.result', 'trump_document.result')).alias(\"cols\"))\\\n",
        ".select(F.expr(\"cols['0']\").alias(\"dt_prediction\"), F.expr(\"cols['1']\").alias(\"trump_document\")).show(truncate=False)"
      ],
      "execution_count": 16,
      "outputs": [
        {
          "output_type": "stream",
          "text": [
            "+-------------+----------------------------------------------------------------------------------------------------------------------------------------------------------------------------------------------------------------------------------------------------------------------------------------------------+\n",
            "|dt_prediction|trump_document                                                                                                                                                                                                                                                                                      |\n",
            "+-------------+----------------------------------------------------------------------------------------------------------------------------------------------------------------------------------------------------------------------------------------------------------------------------------------------------+\n",
            "|FAKE         |https://t.co/0LKTMOgk1T                                                                                                                                                                                                                                                                             |\n",
            "|REAL         |RT @charliekirk11: This man is NOT black according to Joe Biden\n",
            "\n",
            "Maybe Joe just doesn’t want him spreading the TRUTH about the Democrat Par…                                                                                                                                                        |\n",
            "|REAL         |RT @realDonaldTrump: Joe Biden’s rally. ZERO enthusiasm! https://t.co/IB2BrrmTPH                                                                                                                                                                                                                    |\n",
            "|FAKE         |Watch Live: Trump Supporters Descend on Tulsa on Eve of Trump Rally https://t.co/0NxMjzvQdt via @BreitbartNews Thank you to all. See you tonight in Tulsa!                                                                                                                                          |\n",
            "|FAKE         |The D.C. Police are not doing their job as they watch a statue be ripped down &amp; burn. These people should be immediately arrested. A disgrace to our Country!  @MayorBowser                                                                                                                     |\n",
            "|FAKE         |RT @thejtlewis: Joe Biden is reportedly deciding between Kamala Harris and Susan Rice to be his running mate. \n",
            "\n",
            "The Democrats have had 4 ye…                                                                                                                                                        |\n",
            "|FAKE         |RT @JoeTalkShow: Susan Rice lied her ass off over and over about what caused the terrorist attack in #Benghazi.  She should know about tras…                                                                                                                                                        |\n",
            "|FAKE         |RT @charliekirk11: Susan Rice is a proven liar and a disgrace to our country.                                                                                                                                                                                                                       |\n",
            "|REAL         |RT @ErrolWebber: The Biden campaign can't decide between Kamala Harris and Susan Rice for his Vice President. When those are your choices,…                                                                                                                                                         |\n",
            "|FAKE         |RT @LbrtyNow: @UrbanAchievr Susan Rice knowingly lied to America about “the video” - Obama and Clinton abandon our Patriots, Rice abaondon…                                                                                                                                                         |\n",
            "|FAKE         |@TuckerCarlson                                                                                                                                                                                                                                                                                      |\n",
            "|REAL         |....as to whether they want help in taking back Seattle. Ready to move quickly! Damage to various Democrat run Cities &amp; States, including statue demolition, should not be allowed to happen. Ready to solve problem quickly! Federal Government is Ready, Willing &amp; Able!@TuckerCarlson    |\n",
            "|FAKE         |Informed Dr. Fauci this morning that he has nothing to do with NFL Football. Forced Democrat run Minnesota to bring in the National Guard &amp; end rioting &amp; looting after seeing the destruction &amp; crime in Minneapolis. 100% successful! Waiting to hear from Dem run Washington State...|\n",
            "|REAL         |RT @realDonaldTrump: Tony Fauci has nothing to do with NFL Football. They are planning a very safe and controlled opening. However, if they…                                                                                                                                                        |\n",
            "|FAKE         |https://t.co/Kr5E8R90Ey                                                                                                                                                                                                                                                                             |\n",
            "|REAL         |Joe Biden’s rally. ZERO enthusiasm! https://t.co/IB2BrrmTPH                                                                                                                                                                                                                                         |\n",
            "|REAL         |Why are Democrats and unions working against life-changing school choice for underserved children? President Trump supports SCHOOL CHOICE! #SchoolChoiceNow https://t.co/pgj0tzKz6R                                                                                                                 |\n",
            "|REAL         |Senator Mitch McConnell (@Team_Mitch) always delivers for the people of Kentucky, who will hopefully re-elect their powerful Senate Majority Leader. Mitch has helped us Make America Great Again, and has my Complete and Total Endorsement! #KYSEN https://t.co/Qtn1SUpPxy                        |\n",
            "|FAKE         |Congressman @BrettGuthrie fights for the Commonwealth of Kentucky! A West Point graduate, he is Strong on Jobs, Reducing Taxes, and our Great Military and Vets. Brett has my Complete and Total Endorsement! #KY02 https://t.co/x5QJfhmUni                                                         |\n",
            "|FAKE         |.@ScottTaylorVA is a fighter for Virginia, and we need him back in Congress! He served our Country as a Navy SEAL, and he is Strong on the Border, Military, and the Second Amendment. Scott has my Complete and Total Endorsement! #VA02 https://t.co/MnRy98uKGI                                   |\n",
            "+-------------+----------------------------------------------------------------------------------------------------------------------------------------------------------------------------------------------------------------------------------------------------------------------------------------------------+\n",
            "only showing top 20 rows\n",
            "\n"
          ],
          "name": "stdout"
        }
      ]
    },
    {
      "cell_type": "code",
      "metadata": {
        "colab": {
          "base_uri": "https://localhost:8080/"
        },
        "id": "afXd3W31ywEl",
        "outputId": "c5ee1035-c225-426d-ebaa-db21e1fdf3b6"
      },
      "source": [
        "jb_result_df.select(F.explode(F.arrays_zip('jb_prediction.result', 'biden_document.result')).alias(\"cols\"))\\\n",
        ".select(F.expr(\"cols['0']\").alias(\"jb_prediction\"), F.expr(\"cols['1']\").alias(\"biden_document\")).show(truncate=False)"
      ],
      "execution_count": 19,
      "outputs": [
        {
          "output_type": "stream",
          "text": [
            "+-------------+--------------------------------------------------------------------------------------------------------------------------------------------------------------------------------------------------------------------------------------------------------------------------------------------------------------+\n",
            "|jb_prediction|biden_document                                                                                                                                                                                                                                                                                                |\n",
            "+-------------+--------------------------------------------------------------------------------------------------------------------------------------------------------------------------------------------------------------------------------------------------------------------------------------------------------------+\n",
            "|REAL         |I know it can be hard to keep faith that we will ever achieve that more perfect union we strive to be. But ours is a union worth fighting for — and we are all called to the cause.\n",
            "\n",
            "None of us can turn away. None of us can stay silent.                                                                    |\n",
            "|FAKE         |Donald Trump’s failure to fight the coronavirus with the same energy and focus that he uses to troll his enemies on Twitter has cost us lives — and is putting hope for an economic recovery at risk.                                                                                                         |\n",
            "|REAL         |I’ve said from the outset of this election that we are in a battle for the soul of this nation. Who we are. What we believe. And maybe most important — who we want to be. It’s all at stake.\n",
            "\n",
            "That's the case we're making in our first TV ad of the general election: https://t.co/gGeSmBIIxA               |\n",
            "|REAL         |On June 19, 1865, in Galveston, TX, the last enslaved African Americans were finally given notice of their freedom. 155 years later, we're still on the long road to equality, equity, and fairness for all.\n",
            "\n",
            "We can't rest until the promise of this nation is fulfilled. #Juneteenth https://t.co/ZHOH8Hz57H|\n",
            "|FAKE         |#Juneteenth reminds us of how vulnerable our nation is to being poisoned by systems and acts of inhumanity—but it's also a reminder of our ability to change. Together, we can lay the roots of real and lasting justice, and become the extraordinary nation that was promised to all.                       |\n",
            "|FAKE         |Amy — from the moment you announced you were running for president in a snowstorm, it wasn't hard to see you had the grit and determination to do anything you set your mind to. You know how to get things done. With your help, we’re going to beat Donald Trump. https://t.co/4kquPZtSV9                   |\n",
            "|FAKE         |Climate change is linked to increased pregnancy risks — and heartbreakingly, Black mothers are being hit the hardest. As President, I'll work every day to tackle the climate crisis head-on and root out injustice. Because they are intertwined. https://t.co/egmxpkXoLc                                    |\n",
            "|FAKE         |To all the Dreamers who make our country better and stronger every single day: Thank you. This country needs you. #HomeIsHere https://t.co/VZPVqY1cgq                                                                                                                                                         |\n",
            "|REAL         |The decisions of the last few days should remind us all of the immense power of the Supreme Court — and the generational impact its justices can have.\n",
            "\n",
            "We have the power to shape the Court's future this November — and we can’t forget that.                                                               |\n",
            "|REAL         |I'm ready on day one. After more than three years in office, why isn't Donald Trump ready? https://t.co/ksgxTsG7QK                                                                                                                                                                                            |\n",
            "|FAKE         |Dreamers are Americans. Period.                                                                                                                                                                                                                                                                               |\n",
            "|FAKE         |Just like Donald Trump couldn’t wish COVID-19 away in March, and just like he couldn’t tweet it away in April — he can’t ignore it away in June. https://t.co/nOBnrL4rWi                                                                                                                                      |\n",
            "|REAL         |Here’s my promise to you: On day one, I’ll send a bill to Congress that creates a clear roadmap to citizenship for Dreamers and 11 million undocumented people who are already strengthening our nation. It’s long overdue.                                                                                   |\n",
            "|REAL         |It didn’t have to be this bad. But we have a president who is more interested in taking a victory lap than he is in doing the work needed to solve this crisis.\n",
            "\n",
            "We need a president who will put the American people first — and actually do the work. https://t.co/Lk1GDmSmAM                               |\n",
            "|FAKE         |Thanks, Barack. You're right — and we won't stop until every Dreamer feels safe in this country. https://t.co/fVoZRhabRy                                                                                                                                                                                      |\n",
            "|REAL         |Donald Trump inherited a growing economy from President Obama and me. And just like everything else he has inherited in his life, he has squandered it. https://t.co/kxBBzhxvxc                                                                                                                               |\n",
            "|FAKE         |The Supreme Court’s ruling today is a victory made possible by the courage and resilience of hundreds of thousands of DACA recipients who bravely stood up and refused to be ignored. And as President, I will get to work immediately to make it permanent. https://t.co/xKkCp4P9Ff                          |\n",
            "|FAKE         |Donald Trump wants to style himself a wartime president against an invisible enemy — but he has surrendered the fight.\n",
            "\n",
            "Instead of leading the charge to defeat this virus, he has waved the white flag and retreated.                                                                                        |\n",
            "|FAKE         |Vice President Pence claimed success because COVID-19 deaths are “down to” fewer than 750 a day.\n",
            "\n",
            "That's more than 20,000 a month — and they're self-congratulating? Unbelievable.\n",
            "\n",
            "It may be good enough for President Trump, but it will never be acceptable if I am President. https://t.co/9h08nxjC6k     |\n",
            "|REAL         |I’m proud to stand with folks across the country participating in today’s #WorkersFirst Caravan. Senate Republicans need to pass the #HeroesAct now and take action to root out systemic racism. https://t.co/s5zCJBXYIp                                                                                      |\n",
            "+-------------+--------------------------------------------------------------------------------------------------------------------------------------------------------------------------------------------------------------------------------------------------------------------------------------------------------------+\n",
            "only showing top 20 rows\n",
            "\n"
          ],
          "name": "stdout"
        }
      ]
    }
  ]
}