{
  "nbformat": 4,
  "nbformat_minor": 0,
  "metadata": {
    "colab": {
      "name": "ner_af",
      "provenance": [],
      "collapsed_sections": [],
      "authorship_tag": "ABX9TyPXJsfWZELb0JbTZlVSdo45",
      "include_colab_link": true
    },
    "kernelspec": {
      "name": "python3",
      "display_name": "Python 3"
    },
    "language_info": {
      "name": "python"
    }
  },
  "cells": [
    {
      "cell_type": "markdown",
      "metadata": {
        "id": "view-in-github",
        "colab_type": "text"
      },
      "source": [
        "<a href=\"https://colab.research.google.com/github/afairley19/nlp_colab/blob/master/ner_af.ipynb\" target=\"_parent\"><img src=\"https://colab.research.google.com/assets/colab-badge.svg\" alt=\"Open In Colab\"/></a>"
      ]
    },
    {
      "cell_type": "code",
      "metadata": {
        "colab": {
          "base_uri": "https://localhost:8080/"
        },
        "id": "VFvu-Ia_QNL4",
        "outputId": "dc6045cb-ee6e-4371-ef03-4bd8fcb85a5c"
      },
      "source": [
        "import os\n",
        "## must be using an older version of Spark and Java 8\n",
        "! apt-get update -qq\n",
        "! apt-get install -y openjdk-8-jdk-headless -qq > /dev/null\n",
        "\n",
        "os.environ[\"JAVA_HOME\"] = \"/usr/lib/jvm/java-8-openjdk-amd64\"\n",
        "os.environ[\"PATH\"] = os.environ[\"JAVA_HOME\"] + \"/bin:\" + os.environ[\"PATH\"]\n",
        "! java -version\n",
        "\n",
        "! pip install --ignore-installed pyspark==2.4.4\n",
        "\n",
        "! pip install --ignore-installed spark-nlp==2.6.3"
      ],
      "execution_count": null,
      "outputs": [
        {
          "output_type": "stream",
          "text": [
            "openjdk version \"1.8.0_282\"\n",
            "OpenJDK Runtime Environment (build 1.8.0_282-8u282-b08-0ubuntu1~18.04-b08)\n",
            "OpenJDK 64-Bit Server VM (build 25.282-b08, mixed mode)\n",
            "Collecting pyspark==2.4.4\n",
            "\u001b[?25l  Downloading https://files.pythonhosted.org/packages/87/21/f05c186f4ddb01d15d0ddc36ef4b7e3cedbeb6412274a41f26b55a650ee5/pyspark-2.4.4.tar.gz (215.7MB)\n",
            "\u001b[K     |████████████████████████████████| 215.7MB 60kB/s \n",
            "\u001b[?25hCollecting py4j==0.10.7\n",
            "\u001b[?25l  Downloading https://files.pythonhosted.org/packages/e3/53/c737818eb9a7dc32a7cd4f1396e787bd94200c3997c72c1dbe028587bd76/py4j-0.10.7-py2.py3-none-any.whl (197kB)\n",
            "\u001b[K     |████████████████████████████████| 204kB 41.6MB/s \n",
            "\u001b[?25hBuilding wheels for collected packages: pyspark\n",
            "  Building wheel for pyspark (setup.py) ... \u001b[?25l\u001b[?25hdone\n",
            "  Created wheel for pyspark: filename=pyspark-2.4.4-py2.py3-none-any.whl size=216130389 sha256=fd800eda475180bd42ba1585d7d1d714918b56d63412b007ffc207d803103df7\n",
            "  Stored in directory: /root/.cache/pip/wheels/ab/09/4d/0d184230058e654eb1b04467dbc1292f00eaa186544604b471\n",
            "Successfully built pyspark\n",
            "Installing collected packages: py4j, pyspark\n",
            "Successfully installed py4j-0.10.7 pyspark-2.4.4\n",
            "Collecting spark-nlp==2.6.3\n",
            "\u001b[?25l  Downloading https://files.pythonhosted.org/packages/84/84/3f15673db521fbc4e8e0ec3677a019ba1458b2cb70f0f7738c221511ef32/spark_nlp-2.6.3-py2.py3-none-any.whl (129kB)\n",
            "\u001b[K     |████████████████████████████████| 133kB 13.2MB/s \n",
            "\u001b[?25hInstalling collected packages: spark-nlp\n",
            "Successfully installed spark-nlp-2.6.3\n"
          ],
          "name": "stdout"
        }
      ]
    },
    {
      "cell_type": "code",
      "metadata": {
        "id": "bM7iaZN9Q4dQ"
      },
      "source": [
        "from pyspark.sql import SparkSession\n",
        "from pyspark.ml import Pipeline\n",
        "from sparknlp.pretrained import PretrainedPipeline\n",
        "\n",
        "import sparknlp\n",
        "from sparknlp.annotator import *\n",
        "from sparknlp.common import *\n",
        "from sparknlp.base import *"
      ],
      "execution_count": null,
      "outputs": []
    },
    {
      "cell_type": "code",
      "metadata": {
        "colab": {
          "base_uri": "https://localhost:8080/"
        },
        "id": "MDDe41riRCsj",
        "outputId": "e6abec21-c84d-4979-c3e1-48d0d9d13908"
      },
      "source": [
        "! sudo update-alternatives --config java"
      ],
      "execution_count": null,
      "outputs": [
        {
          "output_type": "stream",
          "text": [
            "There are 2 choices for the alternative java (providing /usr/bin/java).\n",
            "\n",
            "  Selection    Path                                            Priority   Status\n",
            "------------------------------------------------------------\n",
            "* 0            /usr/lib/jvm/java-11-openjdk-amd64/bin/java      1111      auto mode\n",
            "  1            /usr/lib/jvm/java-11-openjdk-amd64/bin/java      1111      manual mode\n",
            "  2            /usr/lib/jvm/java-8-openjdk-amd64/jre/bin/java   1081      manual mode\n",
            "\n",
            "Press <enter> to keep the current choice[*], or type selection number: 2\n",
            "update-alternatives: using /usr/lib/jvm/java-8-openjdk-amd64/jre/bin/java to provide /usr/bin/java (java) in manual mode\n"
          ],
          "name": "stdout"
        }
      ]
    },
    {
      "cell_type": "code",
      "metadata": {
        "id": "43uB_cazRRBU"
      },
      "source": [
        "spark = sparknlp.start()"
      ],
      "execution_count": null,
      "outputs": []
    },
    {
      "cell_type": "code",
      "metadata": {
        "colab": {
          "base_uri": "https://localhost:8080/"
        },
        "id": "Zs74oY-JRZ7p",
        "outputId": "8f0e3747-e3f3-4e3a-d03c-b6fb58811ff5"
      },
      "source": [
        "print(\"Spark NLP version: \", sparknlp.version())\n",
        "print(\"Apache Spark version: \", spark.version)"
      ],
      "execution_count": null,
      "outputs": [
        {
          "output_type": "stream",
          "text": [
            "Spark NLP version:  2.6.3\n",
            "Apache Spark version:  2.4.4\n"
          ],
          "name": "stdout"
        }
      ]
    },
    {
      "cell_type": "code",
      "metadata": {
        "colab": {
          "base_uri": "https://localhost:8080/"
        },
        "id": "nDJy3CRCRtMP",
        "outputId": "c23ea46d-8bbf-4de3-ed37-6fa8737dd6c0"
      },
      "source": [
        "ner_pipeline = PretrainedPipeline('recognize_entities_dl', 'en')"
      ],
      "execution_count": null,
      "outputs": [
        {
          "output_type": "stream",
          "text": [
            "recognize_entities_dl download started this may take some time.\n",
            "Approx size to download 159 MB\n",
            "[OK!]\n"
          ],
          "name": "stdout"
        }
      ]
    },
    {
      "cell_type": "code",
      "metadata": {
        "id": "nR89Wu9mTdFW"
      },
      "source": [
        "# from Wikipedia: https://en.wikipedia.org/wiki/Watership_Down\n",
        "\n",
        "output = ner_pipeline.annotate('Watership Down is an adventure novel by English author Richard Adams, published by Rex Collings Ltd of London in 1972. Set in southern England, around Hampshire, the story features a small group of rabbits. Although they live in their natural wild environment, with burrows, they are anthropomorphised, possessing their own culture, language, proverbs, poetry, and mythology. Evoking epic themes, the novel follows the rabbits as they escape the destruction of their warren and seek a place to establish a new home (the hill of Watership Down), encountering perils and temptations along the way.')"
      ],
      "execution_count": null,
      "outputs": []
    },
    {
      "cell_type": "code",
      "metadata": {
        "id": "XWWEWjn0gIqR"
      },
      "source": [
        ""
      ],
      "execution_count": null,
      "outputs": []
    },
    {
      "cell_type": "code",
      "metadata": {
        "colab": {
          "base_uri": "https://localhost:8080/"
        },
        "id": "dXLEZxBnX_pT",
        "outputId": "d6ce34ea-bec8-48e0-cc7a-95b35802c201"
      },
      "source": [
        "print(output['ner'])\n",
        "print(output['token'])\n",
        "print(output['entities'])"
      ],
      "execution_count": null,
      "outputs": [
        {
          "output_type": "stream",
          "text": [
            "['B-PER', 'I-PER', 'O', 'O', 'O', 'O', 'O', 'B-MISC', 'O', 'B-PER', 'I-PER', 'O', 'O', 'O', 'B-ORG', 'I-ORG', 'I-ORG', 'O', 'B-LOC', 'O', 'O', 'O', 'O', 'O', 'O', 'B-LOC', 'O', 'O', 'B-LOC', 'O', 'O', 'O', 'O', 'O', 'O', 'O', 'O', 'O', 'O', 'O', 'O', 'O', 'O', 'O', 'O', 'O', 'O', 'O', 'O', 'O', 'O', 'O', 'O', 'O', 'O', 'O', 'O', 'O', 'O', 'O', 'O', 'O', 'O', 'O', 'O', 'O', 'O', 'O', 'O', 'O', 'O', 'O', 'O', 'O', 'O', 'O', 'O', 'O', 'O', 'O', 'O', 'O', 'O', 'O', 'O', 'O', 'O', 'O', 'O', 'O', 'O', 'O', 'O', 'O', 'O', 'O', 'O', 'O', 'O', 'B-LOC', 'I-LOC', 'O', 'O', 'O', 'O', 'O', 'O', 'O', 'O', 'O']\n",
            "['Watership', 'Down', 'is', 'an', 'adventure', 'novel', 'by', 'English', 'author', 'Richard', 'Adams', ',', 'published', 'by', 'Rex', 'Collings', 'Ltd', 'of', 'London', 'in', '1972', '.', 'Set', 'in', 'southern', 'England', ',', 'around', 'Hampshire', ',', 'the', 'story', 'features', 'a', 'small', 'group', 'of', 'rabbits', '.', 'Although', 'they', 'live', 'in', 'their', 'natural', 'wild', 'environment', ',', 'with', 'burrows', ',', 'they', 'are', 'anthropomorphised', ',', 'possessing', 'their', 'own', 'culture', ',', 'language', ',', 'proverbs', ',', 'poetry', ',', 'and', 'mythology', '.', 'Evoking', 'epic', 'themes', ',', 'the', 'novel', 'follows', 'the', 'rabbits', 'as', 'they', 'escape', 'the', 'destruction', 'of', 'their', 'warren', 'and', 'seek', 'a', 'place', 'to', 'establish', 'a', 'new', 'home', '(', 'the', 'hill', 'of', 'Watership', 'Down', '),', 'encountering', 'perils', 'and', 'temptations', 'along', 'the', 'way', '.']\n",
            "['Watership Down', 'English', 'Richard Adams', 'Rex Collings Ltd', 'London', 'England', 'Hampshire', 'Watership Down']\n"
          ],
          "name": "stdout"
        }
      ]
    },
    {
      "cell_type": "code",
      "metadata": {
        "colab": {
          "base_uri": "https://localhost:8080/"
        },
        "id": "g6vNLJ2WTmQK",
        "outputId": "13795347-f04f-4965-b686-6262de15bab2"
      },
      "source": [
        "ner_result = [output['ner'] for i in output]\n",
        "word = [output['token'] for i in output]\n",
        "list(zip(word[0], ner_result[0]))"
      ],
      "execution_count": null,
      "outputs": [
        {
          "output_type": "execute_result",
          "data": {
            "text/plain": [
              "[('Watership', 'B-PER'),\n",
              " ('Down', 'I-PER'),\n",
              " ('is', 'O'),\n",
              " ('an', 'O'),\n",
              " ('adventure', 'O'),\n",
              " ('novel', 'O'),\n",
              " ('by', 'O'),\n",
              " ('English', 'B-MISC'),\n",
              " ('author', 'O'),\n",
              " ('Richard', 'B-PER'),\n",
              " ('Adams', 'I-PER'),\n",
              " (',', 'O'),\n",
              " ('published', 'O'),\n",
              " ('by', 'O'),\n",
              " ('Rex', 'B-ORG'),\n",
              " ('Collings', 'I-ORG'),\n",
              " ('Ltd', 'I-ORG'),\n",
              " ('of', 'O'),\n",
              " ('London', 'B-LOC'),\n",
              " ('in', 'O'),\n",
              " ('1972', 'O'),\n",
              " ('.', 'O'),\n",
              " ('Set', 'O'),\n",
              " ('in', 'O'),\n",
              " ('southern', 'O'),\n",
              " ('England', 'B-LOC'),\n",
              " (',', 'O'),\n",
              " ('around', 'O'),\n",
              " ('Hampshire', 'B-LOC'),\n",
              " (',', 'O'),\n",
              " ('the', 'O'),\n",
              " ('story', 'O'),\n",
              " ('features', 'O'),\n",
              " ('a', 'O'),\n",
              " ('small', 'O'),\n",
              " ('group', 'O'),\n",
              " ('of', 'O'),\n",
              " ('rabbits', 'O'),\n",
              " ('.', 'O'),\n",
              " ('Although', 'O'),\n",
              " ('they', 'O'),\n",
              " ('live', 'O'),\n",
              " ('in', 'O'),\n",
              " ('their', 'O'),\n",
              " ('natural', 'O'),\n",
              " ('wild', 'O'),\n",
              " ('environment', 'O'),\n",
              " (',', 'O'),\n",
              " ('with', 'O'),\n",
              " ('burrows', 'O'),\n",
              " (',', 'O'),\n",
              " ('they', 'O'),\n",
              " ('are', 'O'),\n",
              " ('anthropomorphised', 'O'),\n",
              " (',', 'O'),\n",
              " ('possessing', 'O'),\n",
              " ('their', 'O'),\n",
              " ('own', 'O'),\n",
              " ('culture', 'O'),\n",
              " (',', 'O'),\n",
              " ('language', 'O'),\n",
              " (',', 'O'),\n",
              " ('proverbs', 'O'),\n",
              " (',', 'O'),\n",
              " ('poetry', 'O'),\n",
              " (',', 'O'),\n",
              " ('and', 'O'),\n",
              " ('mythology', 'O'),\n",
              " ('.', 'O'),\n",
              " ('Evoking', 'O'),\n",
              " ('epic', 'O'),\n",
              " ('themes', 'O'),\n",
              " (',', 'O'),\n",
              " ('the', 'O'),\n",
              " ('novel', 'O'),\n",
              " ('follows', 'O'),\n",
              " ('the', 'O'),\n",
              " ('rabbits', 'O'),\n",
              " ('as', 'O'),\n",
              " ('they', 'O'),\n",
              " ('escape', 'O'),\n",
              " ('the', 'O'),\n",
              " ('destruction', 'O'),\n",
              " ('of', 'O'),\n",
              " ('their', 'O'),\n",
              " ('warren', 'O'),\n",
              " ('and', 'O'),\n",
              " ('seek', 'O'),\n",
              " ('a', 'O'),\n",
              " ('place', 'O'),\n",
              " ('to', 'O'),\n",
              " ('establish', 'O'),\n",
              " ('a', 'O'),\n",
              " ('new', 'O'),\n",
              " ('home', 'O'),\n",
              " ('(', 'O'),\n",
              " ('the', 'O'),\n",
              " ('hill', 'O'),\n",
              " ('of', 'O'),\n",
              " ('Watership', 'B-LOC'),\n",
              " ('Down', 'I-LOC'),\n",
              " ('),', 'O'),\n",
              " ('encountering', 'O'),\n",
              " ('perils', 'O'),\n",
              " ('and', 'O'),\n",
              " ('temptations', 'O'),\n",
              " ('along', 'O'),\n",
              " ('the', 'O'),\n",
              " ('way', 'O'),\n",
              " ('.', 'O')]"
            ]
          },
          "metadata": {
            "tags": []
          },
          "execution_count": 49
        }
      ]
    }
  ]
}